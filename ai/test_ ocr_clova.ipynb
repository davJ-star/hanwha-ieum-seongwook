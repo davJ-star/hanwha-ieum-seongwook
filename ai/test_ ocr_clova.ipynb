{
 "cells": [
  {
   "cell_type": "code",
   "execution_count": 11,
   "metadata": {},
   "outputs": [],
   "source": [
    "from dotenv import load_dotenv\n",
    "import os\n",
    "\n",
    "load_dotenv()\n",
    "CLOVA_OCR_API_SECRET_KEY = os.getenv('CLOVA_OCR_API_SECRET_KEY').strip('\"')\n",
    "\n"
   ]
  },
  {
   "cell_type": "code",
   "execution_count": 12,
   "metadata": {},
   "outputs": [
    {
     "ename": "AttributeError",
     "evalue": "'NoneType' object has no attribute 'strip'",
     "output_type": "error",
     "traceback": [
      "\u001b[1;31m---------------------------------------------------------------------------\u001b[0m",
      "\u001b[1;31mAttributeError\u001b[0m                            Traceback (most recent call last)",
      "Cell \u001b[1;32mIn[12], line 16\u001b[0m\n\u001b[0;32m     14\u001b[0m \u001b[38;5;66;03m# API 정보 설정\u001b[39;00m\n\u001b[0;32m     15\u001b[0m api_url \u001b[38;5;241m=\u001b[39m os\u001b[38;5;241m.\u001b[39mgetenv(\u001b[38;5;124m'\u001b[39m\u001b[38;5;124mAPI_URL\u001b[39m\u001b[38;5;124m'\u001b[39m)\n\u001b[1;32m---> 16\u001b[0m secret_key \u001b[38;5;241m=\u001b[39m \u001b[43mos\u001b[49m\u001b[38;5;241;43m.\u001b[39;49m\u001b[43mgetenv\u001b[49m\u001b[43m(\u001b[49m\u001b[38;5;124;43m'\u001b[39;49m\u001b[38;5;124;43mSECRET_KEY\u001b[39;49m\u001b[38;5;124;43m'\u001b[39;49m\u001b[43m)\u001b[49m\u001b[38;5;241;43m.\u001b[39;49m\u001b[43mstrip\u001b[49m(\u001b[38;5;124m'\u001b[39m\u001b[38;5;124m\"\u001b[39m\u001b[38;5;124m'\u001b[39m)\n\u001b[0;32m     18\u001b[0m \u001b[38;5;66;03m# 이미지 파일 경로 설정\u001b[39;00m\n\u001b[0;32m     19\u001b[0m image_file \u001b[38;5;241m=\u001b[39m \u001b[38;5;124m\"\u001b[39m\u001b[38;5;124mC:\u001b[39m\u001b[38;5;130;01m\\\\\u001b[39;00m\u001b[38;5;124mUsers\u001b[39m\u001b[38;5;130;01m\\\\\u001b[39;00m\u001b[38;5;124m82106\u001b[39m\u001b[38;5;130;01m\\\\\u001b[39;00m\u001b[38;5;124mdevelop\u001b[39m\u001b[38;5;130;01m\\\\\u001b[39;00m\u001b[38;5;124mhanwha-ieum\u001b[39m\u001b[38;5;130;01m\\\\\u001b[39;00m\u001b[38;5;124mai\u001b[39m\u001b[38;5;130;01m\\\\\u001b[39;00m\u001b[38;5;124mimg\u001b[39m\u001b[38;5;130;01m\\\\\u001b[39;00m\u001b[38;5;124m타이레놀이미지.jpg\u001b[39m\u001b[38;5;124m\"\u001b[39m\n",
      "\u001b[1;31mAttributeError\u001b[0m: 'NoneType' object has no attribute 'strip'"
     ]
    }
   ],
   "source": [
    "# 필요한 라이브러리 import\n",
    "import os\n",
    "import requests\n",
    "import json\n",
    "import base64\n",
    "from dotenv import load_dotenv\n",
    "from IPython.display import display\n",
    "from PIL import Image, ImageDraw, ImageFont\n",
    "import numpy as np\n",
    "\n",
    "# .env 파일 로드\n",
    "load_dotenv()\n",
    "\n",
    "# API 정보 설정\n",
    "api_url = os.getenv('API_URL')\n",
    "secret_key = os.getenv('SECRET_KEY').strip('\"')\n",
    "\n",
    "# 이미지 파일 경로 설정\n",
    "image_file = \"C:\\\\Users\\\\82106\\\\develop\\\\hanwha-ieum\\\\ai\\\\img\\\\타이레놀이미지.jpg\"\n",
    "# 이미지 열기\n",
    "img = Image.open(image_file)\n",
    "\n",
    "# 이미지 표시\n",
    "display(img)\n",
    "\n",
    "# 이미지 파일 읽기 및 base64 인코딩\n",
    "with open(image_file, \"rb\") as f:\n",
    "    image_data = base64.b64encode(f.read()).decode('utf-8')\n",
    "\n",
    "# API 요청 헤더 설정\n",
    "headers = {\n",
    "    \"X-OCR-SECRET\": secret_key,\n",
    "    \"Content-Type\": \"application/json\"\n",
    "}\n",
    "\n",
    "# API 요청 데이터 준비\n",
    "request_json = {\n",
    "    \"images\": [\n",
    "        {\n",
    "            \"format\": \"jpg\",\n",
    "            \"name\": \"demo\",\n",
    "            \"data\": image_data\n",
    "        }\n",
    "    ],\n",
    "    \"requestId\": \"string\",\n",
    "    \"version\": \"V2\",\n",
    "    \"timestamp\": 0\n",
    "}\n",
    "\n",
    "# API 호출\n",
    "response = requests.post(api_url, headers=headers, json=request_json)\n",
    "\n",
    "# 결과 처리\n",
    "result = json.loads(response.text)\n",
    "print(json.dumps(result, indent=2, ensure_ascii=False))"
   ]
  },
  {
   "cell_type": "code",
   "execution_count": null,
   "metadata": {},
   "outputs": [],
   "source": [
    "# OCR 결과 시각화 함수\n",
    "def visualize_ocr_result(image_path, ocr_result):\n",
    "    # 이미지 열기\n",
    "    image = Image.open(image_path)\n",
    "    draw = ImageDraw.Draw(image)\n",
    "    \n",
    "    # 폰트 설정 (폰트 파일 경로를 적절히 수정해주세요)\n",
    "    font = ImageFont.truetype(\"/path/to/font.ttf\", 20)\n",
    "    \n",
    "    # OCR 결과 그리기\n",
    "    for field in ocr_result['images'][0]['fields']:\n",
    "        vertices = field['boundingPoly']['vertices']\n",
    "        text = field['inferText']\n",
    "        \n",
    "        # 박스 그리기\n",
    "        draw.polygon([\n",
    "            (vertices[0]['x'], vertices[0]['y']),\n",
    "            (vertices[1]['x'], vertices[1]['y']),\n",
    "            (vertices[2]['x'], vertices[2]['y']),\n",
    "            (vertices[3]['x'], vertices[3]['y'])\n",
    "        ], outline=\"red\")\n",
    "        \n",
    "        # 텍스트 그리기\n",
    "        draw.text((vertices[0]['x'], vertices[0]['y'] - 20), text, font=font, fill=\"red\")\n",
    "    \n",
    "    # 결과 이미지 표시\n",
    "    display(image)\n",
    "\n",
    "# OCR 결과 시각화\n",
    "visualize_ocr_result(image_file, result)\n"
   ]
  }
 ],
 "metadata": {
  "kernelspec": {
   "display_name": "Python 3",
   "language": "python",
   "name": "python3"
  },
  "language_info": {
   "codemirror_mode": {
    "name": "ipython",
    "version": 3
   },
   "file_extension": ".py",
   "mimetype": "text/x-python",
   "name": "python",
   "nbconvert_exporter": "python",
   "pygments_lexer": "ipython3",
   "version": "3.10.16"
  }
 },
 "nbformat": 4,
 "nbformat_minor": 2
}
